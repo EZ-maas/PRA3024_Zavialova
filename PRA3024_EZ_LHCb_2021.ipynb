{
  "nbformat": 4,
  "nbformat_minor": 0,
  "metadata": {
    "colab": {
      "name": "PRA3024_EZ_LHCb_2021.ipynb",
      "provenance": [],
      "collapsed_sections": [],
      "include_colab_link": true
    },
    "kernelspec": {
      "name": "python2",
      "display_name": "Python 2"
    },
    "accelerator": "GPU"
  },
  "cells": [
    {
      "cell_type": "markdown",
      "metadata": {
        "id": "view-in-github",
        "colab_type": "text"
      },
      "source": [
        "<a href=\"https://colab.research.google.com/github/EZ-maas/PRA3024_Zavialova/blob/main/PRA3024_EZ_LHCb_2021.ipynb\" target=\"_parent\"><img src=\"https://colab.research.google.com/assets/colab-badge.svg\" alt=\"Open In Colab\"/></a>"
      ]
    },
    {
      "cell_type": "markdown",
      "metadata": {
        "id": "zOx3P5BekffB"
      },
      "source": [
        "# Elizaveta Zavialova\r\n",
        "\r\n",
        "i6213355\r\n",
        "\r\n",
        "PRA3024 (2021)\r\n",
        "\r\n",
        "Assignment 2"
      ]
    },
    {
      "cell_type": "markdown",
      "metadata": {
        "id": "1JafiSIrvEKW"
      },
      "source": [
        "Welcome to Week 4!\n",
        "\n",
        "We will be focussing in Particle Physics Analysis and detecting matter/antimatter assymetries in the production of certain types of particles. ![LHCb detector](https://www1b.physik.rwth-aachen.de/~schael/LHCb_files/LHCB%20PREVIEW-white-bg.jpg)\n",
        "\n",
        "The data we are using comes from LHCb - one of the experiments at LHC. It is a highly specialised detector aimed at detecting decays involving the B-quark. Unlike the other major experiments, LHCb detects particles very close to the source and looks almost exclusively in the forward direction - this gives the detector many advantages compared to other experiments at LHC.\n",
        "\n",
        "In order to get started, we need to access the [ROOT framework](https://root.cern.ch/) and download some datafiles into this machine.\n",
        "\n",
        "If you are using Google Colab then you need to ensure that you are using Python 2:\n",
        "\n",
        "Before we start - we have to use Python2 (not Python 3), so we should choose this as an option in \"Runtime\" -> \"Change Runtime Type\" at the top or create a new notebook in Python2 by appending \"&runtime=python2\" to the URL."
      ]
    },
    {
      "cell_type": "code",
      "metadata": {
        "id": "vFclIR72w0mU",
        "colab": {
          "base_uri": "https://localhost:8080/"
        },
        "outputId": "da65b619-0aa5-4e45-93ad-49577d772063"
      },
      "source": [
        "#Colab only\n",
        "#we are going to make a directory called APPS\n",
        "!mkdir -p APPS\n",
        "#Now we move to our directory called APPS and we download ROOT from the CERN server, this version is chosen because it runs on this machine - if you want to run this locally check the versions!\n",
        "!cd APPS && wget https://root.cern.ch/download/root_v6.13.08.Linux-ubuntu18-x86_64-gcc7.3.tar.gz \n",
        "#Now we extract our downloaded file:\n",
        "!cd APPS && tar -xf root_v6.13.08.Linux-ubuntu18-x86_64-gcc7.3.tar.gz\n"
      ],
      "execution_count": 172,
      "outputs": [
        {
          "output_type": "stream",
          "text": [
            "--2021-03-01 20:50:17--  https://root.cern.ch/download/root_v6.13.08.Linux-ubuntu18-x86_64-gcc7.3.tar.gz\n",
            "Resolving root.cern.ch (root.cern.ch)... 137.138.18.236, 2001:1458:201:ee::100:6\n",
            "Connecting to root.cern.ch (root.cern.ch)|137.138.18.236|:443... connected.\n",
            "HTTP request sent, awaiting response... 200 OK\n",
            "Length: 137415272 (131M) [application/x-gzip]\n",
            "Saving to: ‘root_v6.13.08.Linux-ubuntu18-x86_64-gcc7.3.tar.gz.2’\n",
            "\n",
            "root_v6.13.08.Linux 100%[===================>] 131.05M  90.4MB/s    in 1.4s    \n",
            "\n",
            "2021-03-01 20:50:18 (90.4 MB/s) - ‘root_v6.13.08.Linux-ubuntu18-x86_64-gcc7.3.tar.gz.2’ saved [137415272/137415272]\n",
            "\n"
          ],
          "name": "stdout"
        }
      ]
    },
    {
      "cell_type": "code",
      "metadata": {
        "id": "COPyXIvbxqht",
        "colab": {
          "base_uri": "https://localhost:8080/"
        },
        "outputId": "f0ffeb91-d902-4851-ef59-98a50a4d17b8"
      },
      "source": [
        "#Colab only:\n",
        "#now we can extract some files from ROOT and ensure that we can access the libraries. We use some python key words to get access to the right files:\n",
        "\n",
        "import sys\n",
        "\n",
        "sys.path.append(\"/content/APPS/root/lib\")\n",
        "\n",
        "import ctypes\n",
        "\n",
        "\n",
        "ctypes.cdll.LoadLibrary('/content/APPS/root/lib/libCore.so')\n",
        "\n",
        "ctypes.cdll.LoadLibrary('/content/APPS/root/lib/libThread.so')\n",
        "\n",
        "ctypes.cdll.LoadLibrary('/content/APPS/root/lib/libImt.so')\n",
        "\n",
        "ctypes.cdll.LoadLibrary('/content/APPS/root/lib/libRIO.so')\n",
        "\n",
        "ctypes.cdll.LoadLibrary('/content/APPS/root/lib/libNet.so')\n",
        "\n",
        "ctypes.cdll.LoadLibrary('/content/APPS/root/lib/libTree.so')\n",
        "\n",
        "ctypes.cdll.LoadLibrary('/content/APPS/root/lib/libMathCore.so')\n",
        "\n",
        "ctypes.cdll.LoadLibrary('/content/APPS/root/lib/libMathMore.so')\n",
        "\n",
        "ctypes.cdll.LoadLibrary('/content/APPS/root/lib/libMatrix.so')\n",
        "\n",
        "ctypes.cdll.LoadLibrary('/content/APPS/root/lib/libHist.so')\n",
        "\n",
        "ctypes.cdll.LoadLibrary('/content/APPS/root/lib/libGraf.so')\n",
        "\n",
        "ctypes.cdll.LoadLibrary('/content/APPS/root/lib/libPyROOT.so')\n",
        "\n",
        "ctypes.cdll.LoadLibrary('/content/APPS/root/lib/libGpad.so')\n",
        "\n",
        "ctypes.cdll.LoadLibrary('/content/APPS/root/lib/libGraf3d.so')\n",
        "\n",
        "ctypes.cdll.LoadLibrary('/content/APPS/root/lib/libMultiProc.so')\n",
        "\n",
        "ctypes.cdll.LoadLibrary('/content/APPS/root/lib/libMinuit.so')\n",
        "\n",
        "ctypes.cdll.LoadLibrary('/content/APPS/root/lib/libFoam.so')"
      ],
      "execution_count": 173,
      "outputs": [
        {
          "output_type": "execute_result",
          "data": {
            "text/plain": [
              "<CDLL '/content/APPS/root/lib/libFoam.so', handle 55e49873a800 at 7f3e889dc7d0>"
            ]
          },
          "metadata": {
            "tags": []
          },
          "execution_count": 173
        }
      ]
    },
    {
      "cell_type": "code",
      "metadata": {
        "id": "QTVz7NQMyDCb",
        "colab": {
          "base_uri": "https://localhost:8080/",
          "height": 589
        },
        "outputId": "59f959da-bbd4-489c-8676-de64fdfa9834"
      },
      "source": [
        "#Now we can check if we have everything working as we expect: \n",
        "#Import brings the ROOT framework into our python environment.\n",
        "import ROOT\n",
        "#We define a 1 dimensional histogram, with 100 bins which ranges from -4 to +4\n",
        "h = ROOT.TH1F(\"gauss\",\"Example histogram\",100,-4,4)\n",
        "#Fill the histogram with gaussian (random) distribution\n",
        "h.FillRandom(\"gaus\")\n",
        "#make a Canvas (i.e. a drawing)\n",
        "c = ROOT.TCanvas(\"myCanvasName\",\"The Canvas Title\",800,600)\n",
        "#Draw my histogram\n",
        "h.Draw()\n",
        "#Show me the canvas\n",
        "c.Draw()"
      ],
      "execution_count": 174,
      "outputs": [
        {
          "output_type": "display_data",
          "data": {
            "image/png": "[encoded data removed]",
            "text/plain": [
              "<IPython.core.display.Image object>"
            ]
          },
          "metadata": {
            "tags": []
          }
        }
      ]
    },
    {
      "cell_type": "markdown",
      "metadata": {
        "id": "VXW1M6XB0tXP"
      },
      "source": [
        "All being well - this should give no errors and we should have some kind of Gaussian distribution above.\n",
        "\n",
        "The next step is to get our data file - you can find it on Canvas here: https://maastrichtuniversity.instructure.com/courses/5826/files/553829?module_item_id=115201\n",
        "\n",
        "Then upload it either directly or to your Google Drive and then mount this to your Colab environment"
      ]
    },
    {
      "cell_type": "code",
      "metadata": {
        "colab": {
          "base_uri": "https://localhost:8080/"
        },
        "id": "DpkVAr83Y1FX",
        "outputId": "1a82e8b7-0ad5-4be4-9491-90d12034c8f1"
      },
      "source": [
        "from google.colab import drive\n",
        "drive.mount('/content/drive')"
      ],
      "execution_count": 175,
      "outputs": [
        {
          "output_type": "stream",
          "text": [
            "Drive already mounted at /content/drive; to attempt to forcibly remount, call drive.mount(\"/content/drive\", force_remount=True).\n"
          ],
          "name": "stdout"
        }
      ]
    },
    {
      "cell_type": "code",
      "metadata": {
        "id": "Co476pbmBvBB",
        "colab": {
          "base_uri": "https://localhost:8080/",
          "height": 559
        },
        "outputId": "ba503e33-9b78-4957-b49e-32d46ef3de73"
      },
      "source": [
        "#Since we need to use ROOT, we must first import this into Python:\n",
        "\n",
        "import ROOT\n",
        "#Then we open the ROOT file using the TFile command. - note you need to make this file path correct for your own setup!\n",
        "f = ROOT.TFile.Open(\"/content/drive/MyDrive/B2HHH_MagnetUp.root\", \"READONLY\")\n",
        "#f = ROOT.TFile.Open(\"B2HHH_MagnetUp.root\", \"READONLY\")\n",
        "#From our file, we have to extract the DecayTree \n",
        "tree=f.Get(\"data\")\n",
        "#Now we can grab some variables as a test:\n",
        "ymomentum = ROOT.RooRealVar(\"H1_PY\",\"H1 Y Momentum\",-3000,3000,\"MeV/c\")\n",
        "xmomentum = ROOT.RooRealVar(\"H1_PX\",\"H1 X Momentum\",-3000,3000,\"MeV/c\")\n",
        "zmomentum = ROOT.RooRealVar(\"H1_PZ\",\"H1 Z Momentum\",-3000,3000,\"MeV/c\")\n",
        "# We then create a dataset for us to play with\n",
        "data = ROOT.RooDataSet(\"data\",\"data set\", tree, ROOT.RooArgSet(xmomentum,ymomentum,zmomentum), \"1==1\")\n",
        "# Now we create a canvas, plot our data onto the canvas and draw it:\n",
        "c = ROOT.TCanvas(\"c\",\"c\")\n",
        "frame = ymomentum.frame()\n",
        "data.plotOn(frame)\n",
        "frame.Draw()\n",
        "c.Draw()"
      ],
      "execution_count": 176,
      "outputs": [
        {
          "output_type": "stream",
          "text": [
            "[#1] INFO:Eval -- RooAbsReal::attachToTree(H1_PX) TTree Float_t branch H1_PX will be converted to double precision\n",
            "[#1] INFO:Eval -- RooAbsReal::attachToTree(H1_PY) TTree Float_t branch H1_PY will be converted to double precision\n",
            "[#1] INFO:Eval -- RooAbsReal::attachToTree(H1_PZ) TTree Float_t branch H1_PZ will be converted to double precision\n",
            "[#1] INFO:Eval -- RooTreeDataStore::loadValues(data) Ignored 3305139 out of range events\n"
          ],
          "name": "stdout"
        },
        {
          "output_type": "display_data",
          "data": {
            "image/png": "[encoded data removed]",
            "text/plain": [
              "<IPython.core.display.Image object>"
            ]
          },
          "metadata": {
            "tags": []
          }
        }
      ]
    },
    {
      "cell_type": "markdown",
      "metadata": {
        "id": "4e4n4iS3IJZi"
      },
      "source": [
        "#Why are we here?\n",
        "\n",
        "This week is about finding out something about one of the fundemental questions in physics. Why do we have \"stuff\".\n",
        "\n",
        "According to many of our models, and according to many measurements in particle physics, matter and anti-matter appear to be produced in equal quantities.\n",
        "\n",
        "However, when one looks at the Universe in general, we have more matter than anti-matter left - so there need to be some processes where anti-matter and matter are not produced equally. You can find out more about the Matter/Anti-Matter Asymmetry [here](http://press.web.cern.ch/backgrounders/matterantimatter-asymmetry)\n",
        "\n",
        "One place we look for this asymetry is in [charge-partity (CP) violation](https://www.symmetrymagazine.org/article/october-2005/explain-it-in-60-seconds) in particle physics processes. This essentially says that the processes that happen in the anti-particle version of a decay do not **exactly** match to the processes that happen in the particle version of the decay.\n",
        "\n",
        "\n",
        "\n",
        "---\n",
        "\n",
        "\n",
        "\n",
        "At LHCb, we produce both particle of the  B<sup>+</sup> meson and it's antiparticle the B<sup>-</sup> meson.\n",
        "\n",
        "We cannot detect these mesons directly. They decay into other things before we have a chance to measure them properly. So we collect data on the decay products, often called daughter particles. There are 524 [documented](http://pdg.lbl.gov/2014/listings/rpp2014-list-B-plus-minus.pdf) ways that the B<sup>+/-</sup> decays into various combinations. In order to simplify the process, we choose decay combinations that are convenient or have particular properties.\n",
        "\n",
        "In this analysis, we will take the process:-\n",
        "\n",
        "B<sup>+</sup>->K<sup>+</sup> + K<sup>+</sup>  + K<sup>-</sup>\n",
        "\n",
        "or\n",
        "\n",
        "B<sup>-</sup>->K<sup>-</sup> + K<sup>-</sup>  + K<sup>+</sup>\n",
        "\n",
        "\n",
        "To do so, we are given the following data for each event in our system:-\n",
        "\n",
        "![alt text](https://raw.githubusercontent.com/lhcb/opendata-project/80d64a3796e593fc8f9b257e85f32ae2e54f131f/Images/Variables.png)\n",
        "\n",
        "Here, H1 is the detected daughter particle (so a Kaon or a Pion), **not** the B-meson - the mother particle. Normally we would have to do some reconstruction from the decay products (the Daughters) to the Mother to be able to make some conclusions.\n",
        "\n",
        "Let's get started with working with this data:"
      ]
    },
    {
      "cell_type": "markdown",
      "metadata": {
        "id": "LOhfj7kfP-ao"
      },
      "source": [
        "For our analysis, the momentum of each of the daughter particles is split into the three cartesian components. We have combined these into a variable called H1_Ptot"
      ]
    },
    {
      "cell_type": "markdown",
      "metadata": {
        "id": "2HEAr1galPAf"
      },
      "source": [
        "\r\n",
        "tree - contains a branch named 'data' from the file\r\n",
        "\r\n",
        "Detector cuts off the particles with a low momentum"
      ]
    },
    {
      "cell_type": "code",
      "metadata": {
        "id": "ks1dvdD_dodA",
        "colab": {
          "base_uri": "https://localhost:8080/",
          "height": 542
        },
        "outputId": "6da9d086-7749-4f96-8899-161f0ecaaf83"
      },
      "source": [
        "#get H1_Ptot variable\r\n",
        "H1_Ptot = ROOT.RooRealVar(\"H1_Ptot\",\"H1 Total Momentum\",0, 50000,\"MeV/c\")\r\n",
        "\r\n",
        "# We then create a dataset for us to play with\r\n",
        "data = ROOT.RooDataSet(\"data\",\"data set\", tree, ROOT.RooArgSet( H1_Ptot), \"1==1\")\r\n",
        "\r\n",
        "# Now we create a canvas, plot our data onto the canvas and draw it:\r\n",
        "c = ROOT.TCanvas(\"c\",\"c\")\r\n",
        "frame = H1_Ptot.frame()\r\n",
        "data.plotOn(frame)\r\n",
        "frame.Draw()\r\n",
        "c.Draw()"
      ],
      "execution_count": 177,
      "outputs": [
        {
          "output_type": "stream",
          "text": [
            "[#1] INFO:Eval -- RooAbsReal::attachToTree(H1_Ptot) TTree Float_t branch H1_Ptot will be converted to double precision\n",
            "[#1] INFO:Eval -- RooTreeDataStore::loadValues(data) Ignored 1161998 out of range events\n"
          ],
          "name": "stdout"
        },
        {
          "output_type": "stream",
          "text": [
            "Warning in <TCanvas::Constructor>: Deleting canvas with same name: c\n"
          ],
          "name": "stderr"
        },
        {
          "output_type": "display_data",
          "data": {
            "image/png": "[encoded data removed]",
            "text/plain": [
              "<IPython.core.display.Image object>"
            ]
          },
          "metadata": {
            "tags": []
          }
        }
      ]
    },
    {
      "cell_type": "markdown",
      "metadata": {
        "id": "C1lXLMCoR1Gi"
      },
      "source": [
        "Now plot the total momentum for the mother (M_Ptot)"
      ]
    },
    {
      "cell_type": "code",
      "metadata": {
        "id": "6kdbiNpPR1QG",
        "colab": {
          "base_uri": "https://localhost:8080/",
          "height": 506
        },
        "outputId": "313e15b6-5c1f-405d-e0cd-62d2e86fafe5"
      },
      "source": [
        "#use the histogram plotting tools, plot the momentum of the mother\r\n",
        "\r\n",
        "#get H1_Ptot variable\r\n",
        "M_Ptot = ROOT.RooRealVar(\"M_Ptot\",\"Mother Total Momentum\",-3000,3000,\"MeV/c\")\r\n",
        "\r\n",
        "# create a hist with mother momentum\r\n",
        "canvas = ROOT.TCanvas(\"canvas\")\r\n",
        "tree.Draw(\"M_Ptot\"+ \">>motherMomentum(100,0,300000)\")\r\n",
        "histogram1 = ROOT.gDirectory.Get(\"motherMomentum\")\r\n",
        "\r\n",
        "canvas.Draw()\r\n"
      ],
      "execution_count": 178,
      "outputs": [
        {
          "output_type": "stream",
          "text": [
            "Warning in <TCanvas::Constructor>: Deleting canvas with same name: canvas\n"
          ],
          "name": "stderr"
        },
        {
          "output_type": "display_data",
          "data": {
            "image/png": "[encoded data removed]",
            "text/plain": [
              "<IPython.core.display.Image object>"
            ]
          },
          "metadata": {
            "tags": []
          }
        }
      ]
    },
    {
      "cell_type": "markdown",
      "metadata": {
        "id": "Gj5qv5kqSMIF"
      },
      "source": [
        "Let's take a look at the whole data file that is available to us by looking at one specific entry - number 45"
      ]
    },
    {
      "cell_type": "code",
      "metadata": {
        "id": "QMkih_6SSG8I",
        "colab": {
          "base_uri": "https://localhost:8080/"
        },
        "outputId": "e56c0957-eca2-4e3b-d810-4dfcd4011c99"
      },
      "source": [
        "tree.Show(45)"
      ],
      "execution_count": 179,
      "outputs": [
        {
          "output_type": "stream",
          "text": [
            "======> EVENT:45\n",
            " B_FlightDistance = 4.71407\n",
            " B_VertexChi2    = 11.5278\n",
            " H1_PX           = 133.376\n",
            " H1_PY           = -1293.52\n",
            " H1_PZ           = 33534.2\n",
            " H1_ProbK        = 0.00735235\n",
            " H1_ProbPi       = 0.204907\n",
            " H1_Charge       = 1\n",
            " H1_IPChi2       = 22.9885\n",
            " H1_isMuon       = 0\n",
            " H2_PX           = 518.943\n",
            " H2_PY           = -1966.2\n",
            " H2_PZ           = 52184.7\n",
            " H2_ProbK        = 0.00482044\n",
            " H2_ProbPi       = 0.266655\n",
            " H2_Charge       = -1\n",
            " H2_IPChi2       = 20.5652\n",
            " H2_isMuon       = 0\n",
            " H3_PX           = 1383.62\n",
            " H3_PY           = -2008.35\n",
            " H3_PZ           = 12154\n",
            " H3_ProbK        = 0.0800247\n",
            " H3_ProbPi       = 0.403711\n",
            " H3_Charge       = -1\n",
            " H3_IPChi2       = 1584.95\n",
            " H3_isMuon       = 0\n",
            " H1_Ptot         = 33559.4\n",
            " H1_type         = 1\n",
            " H1_E            = 33559.7\n",
            " H2_Ptot         = 52224.4\n",
            " H2_type         = 1\n",
            " H2_E            = 52224.5\n",
            " H3_Ptot         = 12396.2\n",
            " H3_type         = 1\n",
            " H3_E            = 12397\n",
            " M_Ptot          = 98035.7\n",
            " M_E             = 98181.3\n",
            " M_m0            = 5343.69\n"
          ],
          "name": "stdout"
        }
      ]
    },
    {
      "cell_type": "markdown",
      "metadata": {
        "id": "w3sqwtNTUEJd"
      },
      "source": [
        "We have now completed the initial steps and begun to work through what we need to with the data. This is a perfect moment to take a coffee!"
      ]
    },
    {
      "cell_type": "markdown",
      "metadata": {
        "id": "6RhWWqt3a8_e"
      },
      "source": [
        "Having discovered all of the relevant information about our daughter particles, we need to combine the measurements about them into a single mother - which will be our B<sup>+</sup> or our B<sup>-</sup>\r\n",
        "\r\n",
        "Having found our momentum and energy, we can use these quantities to find our experimental mass (not the theoretical mass as we have used for the reconstruction).\r\n",
        "\r\n",
        "When we calculate this, we will get a distribution of masses. This is due to errors in the measurements made either by the detector, or in the experiment itself. We hope to have a reasonably narrow peak to work with, but, sometimes this is not possible.\r\n",
        "\r\n",
        "Additionally there will be other particles in the detector - which means our daughters might have come from two or even three different processes. Events which don't come from the same process will give a higher or lower mass than we are looking for. This is typically called the *background* while events which come from our event of interest are called the *signal*"
      ]
    },
    {
      "cell_type": "code",
      "metadata": {
        "id": "onr7-8CMbbFf",
        "colab": {
          "base_uri": "https://localhost:8080/",
          "height": 542
        },
        "outputId": "3e679387-a00c-4914-91c8-124b3af048cd"
      },
      "source": [
        "#Now plot a histogram of the range of masses of the B meson.\r\n",
        "\r\n",
        "#get M_m0 variable\r\n",
        "M_m0 = ROOT.RooRealVar(\"M_m0\",\"B experimental mass\", -1000, 5000,\"meson mass units??\")\r\n",
        "\r\n",
        "# We then create a dataset for us to play with\r\n",
        "data = ROOT.RooDataSet(\"data\",\"data set\", tree, ROOT.RooArgSet( M_m0), \"1==1\")\r\n",
        "\r\n",
        "canvas = ROOT.TCanvas(\"canvas\")\r\n",
        "tree.Draw(\"M_m0\"+ \">>motherMass(100,1000,7000)\")\r\n",
        "histogram1 = ROOT.gDirectory.Get(\"motherMass\")\r\n",
        "\r\n",
        "canvas.Draw()\r\n",
        "#Does this match what we would expect from theory?"
      ],
      "execution_count": 180,
      "outputs": [
        {
          "output_type": "stream",
          "text": [
            "[#1] INFO:Eval -- RooAbsReal::attachToTree(M_m0) TTree Float_t branch M_m0 will be converted to double precision\n",
            "[#1] INFO:Eval -- RooTreeDataStore::loadValues(data) Ignored 1906951 out of range events\n"
          ],
          "name": "stdout"
        },
        {
          "output_type": "stream",
          "text": [
            "Warning in <TCanvas::Constructor>: Deleting canvas with same name: canvas\n"
          ],
          "name": "stderr"
        },
        {
          "output_type": "display_data",
          "data": {
            "image/png": "[encoded data removed]",
            "text/plain": [
              "<IPython.core.display.Image object>"
            ]
          },
          "metadata": {
            "tags": []
          }
        }
      ]
    },
    {
      "cell_type": "markdown",
      "metadata": {
        "id": "MWGFKFnXb0RP"
      },
      "source": [
        "We know that some of our particles are the B+ and some are the B- particle. There will also be some particles in our system that are not coming from a genuine B+/- or are a B+/- but are not constructed from Kaons.\r\n",
        "\r\n",
        "We have some tools available to help:-\r\n",
        "\r\n",
        "  *  During detection, software attributes the probability of a particle being a Kaon or a Pion (in the H1_ProbK or H1_ProbPi variable)\r\n",
        "  * The detector also knows if the particle was a Muon - since it has detectors specifically for these. So it can attribute a 0 or a 1 to this probability\r\n",
        "  * The reconstructed vertex has a some kind of quality associated with it (we call this the Vertex χ2 (this is the variable B_VertexChi2). This is the statistical measure that determines how well we found a single point to be the source of all three particles.\r\n",
        "\r\n"
      ]
    },
    {
      "cell_type": "markdown",
      "metadata": {
        "id": "fEpnSmH4b9HZ"
      },
      "source": [
        "In order to get a better result, we should select our data to have the properties we desire and make some rules (often called a selection) to cut away data we don't want to include for various reasons. e.g. we know we don't have any muons in our decay - so any time H1/H2/H3 are a muon they should be excluded. The other variables are not so clear - so we can plot them to make a decision."
      ]
    },
    {
      "cell_type": "code",
      "metadata": {
        "id": "k0vikJp0cAvv",
        "colab": {
          "base_uri": "https://localhost:8080/",
          "height": 996
        },
        "outputId": "9e2e099f-a3ff-42bd-f7ca-75f626224d39"
      },
      "source": [
        "#Make plots of H1/H2/H3 _ProbK on one plot\r\n",
        "\r\n",
        "# Probability of signal being a Kaon\r\n",
        "H1_Probk = ROOT.RooRealVar(\"H1_ProbK\",\"H1_ProbK\", 0, 1,\"probability\")\r\n",
        "H2_Probk = ROOT.RooRealVar(\"H2_ProbK\",\"H2_ProbK\", 0, 1,\"probability\")\r\n",
        "H3_Probk = ROOT.RooRealVar(\"H3_ProbK\",\"H3_ProbK\", 0, 1,\"probability\")\r\n",
        "\r\n",
        "canvas_ProbK = ROOT.TCanvas(\"canvas_pk\")\r\n",
        "\r\n",
        "tree.Draw(\"H1_ProbK\"+ \">>H1_ProbK(100,0,1)\")\r\n",
        "tree.Draw(\"H2_ProbK\"+ \">>H2_ProbK(100,0,1)\")\r\n",
        "tree.Draw(\"H3_ProbK\"+ \">>H3_ProbK(100,0,1)\")\r\n",
        "\r\n",
        "histogram_H1 = ROOT.gDirectory.Get(\"H1_ProbK\")\r\n",
        "histogram_H2 = ROOT.gDirectory.Get(\"H2_ProbK\")\r\n",
        "histogram_H3 = ROOT.gDirectory.Get(\"H3_ProbK\")\r\n",
        "\r\n",
        "histogram_H1.SetLineColor(1)\r\n",
        "histogram_H2.SetLineColor(2)\r\n",
        "histogram_H3.SetLineColor(7)\r\n",
        "\r\n",
        "histogram_H1.Draw()\r\n",
        "histogram_H2.Draw('Same')\r\n",
        "histogram_H3.Draw('Same') \r\n",
        "\r\n",
        "canvas_ProbK.Draw()\r\n",
        "\r\n",
        "\r\n",
        "#For all our particles, make a plot of the B_VertexChi2\r\n",
        "\r\n",
        "B_ver = ROOT.RooRealVar(\"B_VertexChi2\",\"B_VertexChi2\", -2, 13, \"units\")\r\n",
        "canvas_vertex = ROOT.TCanvas(\"VertexChi\")\r\n",
        "tree.Draw(\"B_VertexChi2\"+ \">>B_VertexChi2(100,-2,13)\")\r\n",
        "histogram_vertex = ROOT.gDirectory.Get(\"B_VertexChi2\")\r\n",
        "\r\n",
        "canvas_vertex.Draw()\r\n",
        "\r\n"
      ],
      "execution_count": 181,
      "outputs": [
        {
          "output_type": "stream",
          "text": [
            "Warning in <TCanvas::Constructor>: Deleting canvas with same name: canvas_pk\n",
            "Warning in <TCanvas::Constructor>: Deleting canvas with same name: VertexChi\n"
          ],
          "name": "stderr"
        },
        {
          "output_type": "display_data",
          "data": {
            "image/png": "[encoded data removed]",
            "text/plain": [
              "<IPython.core.display.Image object>"
            ]
          },
          "metadata": {
            "tags": []
          }
        },
        {
          "output_type": "display_data",
          "data": {
            "image/png": "[encoded data removed]",
            "text/plain": [
              "<IPython.core.display.Image object>"
            ]
          },
          "metadata": {
            "tags": []
          }
        }
      ]
    },
    {
      "cell_type": "code",
      "metadata": {
        "id": "vj7nH5GNScvz",
        "colab": {
          "base_uri": "https://localhost:8080/",
          "height": 506
        },
        "outputId": "60649a56-88f0-4f58-f6c7-62390fad20bc"
      },
      "source": [
        "#Make plots of H1/H2/H3 _ProbPi on one plot\r\n",
        "# Probability of signal being a Pion\r\n",
        "\r\n",
        "H1_ProbPi = ROOT.RooRealVar(\"H1_ProbPi\",\"H1_ProbPi\", -1, 1,\"probability\")\r\n",
        "H2_ProbPi = ROOT.RooRealVar(\"H2_ProbPi\",\"H2_ProbPi\", -1, 1,\"probability\")\r\n",
        "H3_ProbPi = ROOT.RooRealVar(\"H3_ProbPi\",\"H3_ProbPi\", -1, 1,\"probability\")\r\n",
        "\r\n",
        "canvas_ProbPi = ROOT.TCanvas(\"canvas_pk\")\r\n",
        "\r\n",
        "tree.Draw(\"H1_ProbPi\"+ \">>H1_ProbPi(100,0,1)\")\r\n",
        "tree.Draw(\"H2_ProbPi\"+ \">>H2_ProbPi(100,0,1)\")\r\n",
        "tree.Draw(\"H3_ProbPi\"+ \">>H3_ProbPi(100,0,1)\")\r\n",
        "\r\n",
        "histogram_H1_Pi = ROOT.gDirectory.Get(\"H1_ProbPi\")\r\n",
        "histogram_H2_Pi = ROOT.gDirectory.Get(\"H2_ProbPi\")\r\n",
        "histogram_H3_Pi = ROOT.gDirectory.Get(\"H3_ProbPi\")\r\n",
        "\r\n",
        "histogram_H1_Pi.SetLineColor(1)\r\n",
        "histogram_H2_Pi.SetLineColor(2)\r\n",
        "histogram_H3_Pi.SetLineColor(7)\r\n",
        "\r\n",
        "histogram_H1_Pi.Draw()\r\n",
        "histogram_H2_Pi.Draw('Same')\r\n",
        "histogram_H3_Pi.Draw('Same') \r\n",
        "\r\n",
        "canvas_ProbPi.Draw()"
      ],
      "execution_count": 182,
      "outputs": [
        {
          "output_type": "stream",
          "text": [
            "Warning in <TCanvas::Constructor>: Deleting canvas with same name: canvas_pk\n"
          ],
          "name": "stderr"
        },
        {
          "output_type": "display_data",
          "data": {
            "image/png": "[encoded data removed]",
            "text/plain": [
              "<IPython.core.display.Image object>"
            ]
          },
          "metadata": {
            "tags": []
          }
        }
      ]
    },
    {
      "cell_type": "markdown",
      "metadata": {
        "id": "DWmxBkZ0cDx1"
      },
      "source": [
        "Using these plots, we can now make a preselection string. This is a text string that looks like "
      ]
    },
    {
      "cell_type": "code",
      "metadata": {
        "id": "U1IGKyZXcGJP"
      },
      "source": [
        "#This example is for each daughter particle to have a Probability of being a Pion being more than 90% and H1 to not be a muon\r\n",
        "#This is not a good choice of selection - you should make your own :)\r\n",
        "selection=(\"H1_ProbPi>0.9&H2_ProbPi>0.9&H3_ProbPi>0.9&H1_isMuon==0&H2_isMuon==0&H3_isMuon==0\")"
      ],
      "execution_count": 183,
      "outputs": []
    },
    {
      "cell_type": "code",
      "metadata": {
        "id": "MxD7JMeicMu0"
      },
      "source": [
        "#To apply the selection - we can use the copytree command:\r\n",
        "selection=(\"H1_ProbK>0.9\")\r\n",
        "CutTree=tree.CopyTree(selection)\r\n",
        "\r\n",
        "#So now we take our data in tree and apply selection to it (so only events which comply with those rules are kept) and put the new data in CutTree"
      ],
      "execution_count": 184,
      "outputs": []
    },
    {
      "cell_type": "code",
      "metadata": {
        "id": "hmmsoUwEcOir",
        "colab": {
          "base_uri": "https://localhost:8080/",
          "height": 577
        },
        "outputId": "66e5d2a1-ac7c-444a-a52e-5c68dba73b5d"
      },
      "source": [
        "#Now as a good check, we should see the effect of applying our cuts.\r\n",
        "#On one histogram, plot the B meson mass, from both the tree (pre-cuts) and the CutTree (post-cuts)\r\n",
        "#What do you notice about your histogram now?\r\n",
        "\r\n",
        "\r\n",
        "\r\n",
        "#  create two datasets\r\n",
        "data = ROOT.RooDataSet(\"data\",\"data set\", tree, ROOT.RooArgSet( M_m0), \"1==1\")\r\n",
        "data_cut = ROOT.RooDataSet(\"data\",\"data set\", CutTree, ROOT.RooArgSet( M_m0), \"1==1\")\r\n",
        "\r\n",
        "canvas_cut = ROOT.TCanvas(\"canvas\")\r\n",
        "\r\n",
        "tree.Draw(\"M_m0\"+ \">>motherMass(100,1000,7000)\")\r\n",
        "histogram1 = ROOT.gDirectory.Get(\"motherMass\")\r\n",
        "CutTree.Draw(\"M_m0\"+ \">>motherMass_cut(100,1000,7000)\") \r\n",
        "histogram2 = ROOT.gDirectory.Get(\"motherMass_cut\")\r\n",
        "\r\n",
        "histogram1.SetLineColor(1)\r\n",
        "histogram2.SetLineColor(7)\r\n",
        "\r\n",
        "histogram1.Draw()\r\n",
        "histogram2.Draw('Same')\r\n",
        "\r\n",
        "canvas_cut.Draw()\r\n",
        "#Does this match what we would expect from theory?"
      ],
      "execution_count": 185,
      "outputs": [
        {
          "output_type": "stream",
          "text": [
            "[#1] INFO:Eval -- RooAbsReal::attachToTree(M_m0) TTree Float_t branch M_m0 will be converted to double precision\n",
            "[#1] INFO:Eval -- RooTreeDataStore::loadValues(data) Ignored 1906951 out of range events\n",
            "[#1] INFO:Eval -- RooAbsReal::attachToTree(M_m0) TTree Float_t branch M_m0 will be converted to double precision\n",
            "[#1] INFO:Eval -- RooTreeDataStore::loadValues(data) Ignored 74630 out of range events\n"
          ],
          "name": "stdout"
        },
        {
          "output_type": "stream",
          "text": [
            "Warning in <TCanvas::Constructor>: Deleting canvas with same name: canvas\n"
          ],
          "name": "stderr"
        },
        {
          "output_type": "display_data",
          "data": {
            "image/png": "[encoded data removed]",
            "text/plain": [
              "<IPython.core.display.Image object>"
            ]
          },
          "metadata": {
            "tags": []
          }
        }
      ]
    },
    {
      "cell_type": "markdown",
      "metadata": {
        "id": "CBDnNLc0Zvwq"
      },
      "source": [
        "The blue line represents the B mass when selection is applied.\r\n",
        "\r\n",
        "When we reconstruct the mother mass using only daugther particles that fit the selection criteria (only particles with probabilityof being a Kaon more than 90%), we see a very different mass distribution. "
      ]
    },
    {
      "cell_type": "markdown",
      "metadata": {
        "id": "N1tResqvcMgQ"
      },
      "source": [
        "#How do we count the number of events?\r\n",
        "\r\n",
        "We now have a histogram of events that we have reconstructed as a B meson. But some of these events are caused by a co-incidence of events which would still occur if there were no B mesons actually produced. We call this the background. Background and signal are indistinguishable now as the detector cannot tell the difference and our cuts were unable to remove the events for physics reasons. We can do some statistical analysis, if we know the approximate shapes of our signal and our background. Just like a least-squares fitting we can run a fit routine to minimise the error between the fitted curve and our data. As an example, if we know our data has an exponential background and a gaussian signal:\r\n",
        "\r\n",
        "![Gaussian+Exp Background](https://twiki.cern.ch/twiki/pub/RooStats/RooStatsTutorialsJune2013/GausExpModelFit.png)\r\n",
        "\r\n",
        "Here the red line represents our signal, the blue dotted line is our background and the solid blue line is our combined curve. The graph also shows the number of signal events and the number of background events. The signal now is a tiny fraction of the total data shown in the plot.\r\n",
        "\r\n",
        "In order to do this, we need to build a fit model, around which the software can try to fit our data.\r\n",
        "\r\n",
        "We use RooFit for this, which includes:\r\n",
        "* Gaussian\r\n",
        "* Exponential\r\n",
        "* Chebychev\r\n",
        "* Crystal Ball\r\n",
        "* Breit-Wigner\r\n",
        "\r\n",
        "As well as several other choices.\r\n",
        "\r\n",
        "Typically exponential and Chebychev functions are used for background and Gaussian, Crystal Ball and Breit-Wigner are used for signal. We can also combine them (e.g. 1 crystal ball, 1 gaussian, 1 exponential) in various ways."
      ]
    },
    {
      "cell_type": "code",
      "metadata": {
        "id": "w3z4bsiwKGmx"
      },
      "source": [
        "# function to avoid redundancy for different signal+background combinations\r\n",
        "def get_PDF_model(Signal, Bkgnd, s_Norm, b_Norm):\r\n",
        " model=ROOT.RooAddPdf(\"Full Model\",\"model\",ROOT.RooArgList(Signal,Bkgnd),ROOT.RooArgList(s_Norm, b_Norm) )\r\n",
        " return model"
      ],
      "execution_count": 186,
      "outputs": []
    },
    {
      "cell_type": "code",
      "metadata": {
        "id": "WIlqk7KEP8rk"
      },
      "source": [
        "#define physical measurment that we want to fit using RooRealVar\r\n",
        "# var = ROOT.RooRealVar =(\"Variable from Python\", \"Nickname\",Min, Max, Units)\r\n",
        "\r\n",
        "\r\n",
        "mass = ROOT.RooRealVar(\"M_m0\",\"Mass\",4700,5900,\"MeV/C^{2}\")\r\n",
        "mean = ROOT.RooRealVar(\"Mean\",\"Mean\",5300,5270,5330)\r\n",
        "width = ROOT.RooRealVar(\"Width\",\"Width\",40,0,20)"
      ],
      "execution_count": 187,
      "outputs": []
    },
    {
      "cell_type": "code",
      "metadata": {
        "id": "lyXGF5l2SPTt"
      },
      "source": [
        "# exponential model - from the example\r\n",
        "\r\n",
        "exponent=ROOT.RooRealVar(\"exponent\", \"C\", -0.02, -2, +2)\r\n",
        "exp_Norm= ROOT.RooRealVar(\"exp_Norm\",\"Background Yield\", tree.GetEntries()/30, 0, tree.GetEntries() * 2)\r\n",
        "\r\n",
        "#Define the  model for the background:\r\n",
        "\r\n",
        "Bkgnd=ROOT.RooExponential(\"Exponential Background\",\"Bkgnd\",mass,exponent)"
      ],
      "execution_count": 188,
      "outputs": []
    },
    {
      "cell_type": "code",
      "metadata": {
        "id": "R_7q_HY1qhiS"
      },
      "source": [
        "# gaussian-exponent model \r\n",
        "\r\n",
        "#name, title, parameter, mean, standard deviation\r\n",
        "Gauss=ROOT.RooGaussian(\"Gaussian Signal\",\"Gauss\", mass, mean, width)\r\n",
        "\r\n",
        "# Normalisation component\r\n",
        "Gauss_Norm= ROOT.RooRealVar(\"Gauss_Norm\",\"Signal Yield\", tree.GetEntries()/30, 0, tree.GetEntries() * 3)\r\n",
        "\r\n",
        "model = get_PDF_model(Signal = Gauss, Bkgnd = Bkgnd, s_Norm = Gauss_Norm, b_Norm = exp_Norm)\r\n"
      ],
      "execution_count": 236,
      "outputs": []
    },
    {
      "cell_type": "code",
      "metadata": {
        "colab": {
          "base_uri": "https://localhost:8080/"
        },
        "id": "siz4Yi69sFju",
        "outputId": "3b37ef61-10ea-4b53-f6f0-7cb55dd6d9d7"
      },
      "source": [
        "#Put our data set into a RooDataSet structure\r\n",
        "data_to_fit=ROOT.RooDataSet(\"Data Set\",\"data_to_fit\", CutTree, ROOT.RooArgSet(mass))\r\n",
        "\r\n",
        " #Then we can do the fitting:\r\n",
        "\r\n",
        "model.fitTo(data_to_fit)"
      ],
      "execution_count": 237,
      "outputs": [
        {
          "output_type": "execute_result",
          "data": {
            "text/plain": [
              "<ROOT.RooFitResult object at 0x(nil)>"
            ]
          },
          "metadata": {
            "tags": []
          },
          "execution_count": 237
        },
        {
          "output_type": "stream",
          "text": [
            "[#1] INFO:Eval -- RooAbsReal::attachToTree(M_m0) TTree Float_t branch M_m0 will be converted to double precision\n",
            "[#1] INFO:Eval -- RooTreeDataStore::loadValues(Data Set) Ignored 19043 out of range events\n",
            "[#1] INFO:Minization -- p.d.f. provides expected number of events, including extended term in likelihood.\n",
            "[#1] INFO:Minization -- RooMinimizer::optimizeConst: activating const optimization\n",
            "[#1] INFO:Minization --  The following expressions will be evaluated in cache-and-track mode: (Gaussian Signal,Exponential Background)\n",
            " **********\n",
            " **    1 **SET PRINT           1\n",
            " **********\n",
            " **********\n",
            " **    2 **SET NOGRAD\n",
            " **********\n",
            " PARAMETER DEFINITIONS:\n",
            "    NO.   NAME         VALUE      STEP SIZE      LIMITS\n",
            "     1 Gauss_Norm   1.14006e+05  5.70030e+04    0.00000e+00  1.02606e+07\n",
            " MINUIT WARNING IN PARAM DEF\n",
            " ============== LIMITS ON PARAM1 TOO FAR APART.\n",
            " PARAMETER DEFINITIONS:\n",
            "    NO.   NAME         VALUE      STEP SIZE      LIMITS\n",
            "     2 Mean         5.28330e+03  3.77427e-01    5.27000e+03  5.33000e+03\n",
            "     3 Width        2.00000e+01  2.57479e-02    0.00000e+00  2.00000e+01\n",
            " MINUIT WARNING IN PARAMETR\n",
            " ============== VARIABLE3 IS AT ITS UPPER ALLOWED LIMIT.\n",
            " MINUIT WARNING IN PARAMETR\n",
            " ============== VARIABLE3 BROUGHT BACK INSIDE LIMITS.\n",
            "     4 exp_Norm     5.54103e+04  4.10441e+02    0.00000e+00  6.84039e+06\n",
            "     5 exponent     3.62483e-04  1.98878e-05   -2.00000e+00  2.00000e+00\n",
            " **********\n",
            " **    3 **SET ERR         0.5\n",
            " **********\n",
            " **********\n",
            " **    4 **SET PRINT           1\n",
            " **********\n",
            " **********\n",
            " **    5 **SET STR           1\n",
            " **********\n",
            " NOW USING STRATEGY  1: TRY TO BALANCE SPEED AGAINST RELIABILITY\n",
            " **********\n",
            " **    6 **MIGRAD        2500           1\n",
            " **********\n",
            " FIRST CALL TO USER FUNCTION AT NEW START POINT, WITH IFLAG=4.\n",
            " MINUIT WARNING IN MIGrad    \n",
            " ============== VARIABLE3 IS AT ITS UPPER ALLOWED LIMIT.\n",
            " START MIGRAD MINIMIZATION.  STRATEGY  1.  CONVERGENCE WHEN EDM .LT. 1.00e-03\n",
            " FCN=-181079 FROM MIGRAD    STATUS=INITIATE       14 CALLS          15 TOTAL\n",
            "                     EDM= unknown      STRATEGY= 1      NO ERROR MATRIX       \n",
            "  EXT PARAMETER               CURRENT GUESS       STEP         FIRST   \n",
            "  NO.   NAME      VALUE            ERROR          SIZE      DERIVATIVE \n",
            "   1  Gauss_Norm   1.14006e+05   5.70030e+04   5.48559e-02   9.37667e+05\n",
            "   2  Mean         5.28330e+03   3.77427e-01   1.51445e-02   2.38011e+03\n",
            "   3  Width        2.00000e+01   2.57479e-02   3.49247e-02  -1.51270e+01\n",
            "   4  exp_Norm     5.54103e+04   4.10441e+02   6.69397e-04  -1.04350e+05\n",
            "   5  exponent     3.62483e-04   1.98878e-05   9.94392e-06   7.89798e+06\n",
            "                               ERR DEF= 0.5\n",
            " MIGRAD MINIMIZATION HAS CONVERGED.\n",
            " MIGRAD WILL VERIFY CONVERGENCE AND ERROR MATRIX.\n",
            " COVARIANCE MATRIX CALCULATED SUCCESSFULLY\n",
            " FCN=-258142 FROM MIGRAD    STATUS=CONVERGED     124 CALLS         125 TOTAL\n",
            "                     EDM=4.07542e-06    STRATEGY= 1      ERROR MATRIX ACCURATE \n",
            "  EXT PARAMETER                                   STEP         FIRST   \n",
            "  NO.   NAME      VALUE            ERROR          SIZE      DERIVATIVE \n",
            "   1  Gauss_Norm   8.06689e+03   1.16677e+02   1.40185e-04  -3.27888e-01\n",
            "   2  Mean         5.27998e+03   3.81061e-01   5.97933e-03  -8.16637e-02\n",
            "   3  Width        2.00000e+01   1.32581e-02   1.80675e-02** at limit **\n",
            "   4  exp_Norm     7.13871e+04   2.77357e+02   1.37918e-04  -4.99661e-01\n",
            "   5  exponent    -1.46950e-04   1.08168e-05   1.89704e-06  -6.58813e+01\n",
            "                               ERR DEF= 0.5\n",
            " EXTERNAL ERROR MATRIX.    NDIM=  25    NPAR=  5    ERR DEF=0.5\n",
            "  1.361e+04 -1.303e+00 -3.340e-05 -5.538e+03  2.909e-06 \n",
            " -1.303e+00  1.452e-01  5.150e-08  1.300e+00 -9.080e-08 \n",
            " -3.340e-05  5.150e-08  1.388e-09  3.334e-05 -5.903e-14 \n",
            " -5.538e+03  1.300e+00  3.334e-05  7.693e+04 -2.906e-06 \n",
            "  2.909e-06 -9.080e-08 -5.903e-14 -2.906e-06  1.170e-10 \n",
            " PARAMETER  CORRELATION COEFFICIENTS  \n",
            "       NO.  GLOBAL      1      2      3      4      5\n",
            "        1  0.17342   1.000 -0.029 -0.008 -0.171  0.002\n",
            "        2  0.03752  -0.029  1.000  0.004  0.012 -0.022\n",
            "        3  0.00862  -0.008  0.004  1.000  0.003 -0.000\n",
            "        4  0.17129  -0.171  0.012  0.003  1.000 -0.001\n",
            "        5  0.02209   0.002 -0.022 -0.000 -0.001  1.000\n",
            " **********\n",
            " **    7 **SET ERR         0.5\n",
            " **********\n",
            " **********\n",
            " **    8 **SET PRINT           1\n",
            " **********\n",
            " **********\n",
            " **    9 **HESSE        2500\n",
            " **********\n",
            " COVARIANCE MATRIX CALCULATED SUCCESSFULLY\n",
            " FCN=-258142 FROM HESSE     STATUS=OK             31 CALLS         156 TOTAL\n",
            "                     EDM=4.06954e-06    STRATEGY= 1      ERROR MATRIX ACCURATE \n",
            "  EXT PARAMETER                                INTERNAL      INTERNAL  \n",
            "  NO.   NAME      VALUE            ERROR       STEP SIZE       VALUE   \n",
            "   1  Gauss_Norm   8.06689e+03   1.16675e+02   5.60741e-06  -1.51471e+00\n",
            "   2  Mean         5.27998e+03   3.81041e-01   2.39173e-04  -7.30495e-01\n",
            "   3  Width        2.00000e+01   1.32599e-02   3.61350e-03   1.57072e+00\n",
            "                                 WARNING -   - ABOVE PARAMETER IS AT LIMIT.\n",
            "   4  exp_Norm     7.13871e+04   2.77368e+02   5.51670e-06  -1.36612e+00\n",
            "   5  exponent    -1.46950e-04   1.08168e-05   3.79408e-07  -7.34749e-05\n",
            "                               ERR DEF= 0.5\n",
            " EXTERNAL ERROR MATRIX.    NDIM=  25    NPAR=  5    ERR DEF=0.5\n",
            "  1.361e+04 -1.243e+00 -6.456e-06 -5.546e+03  2.752e-06 \n",
            " -1.243e+00  1.452e-01  1.006e-08  1.243e+00 -9.055e-08 \n",
            " -6.456e-06  1.006e-08  1.389e-09  6.456e-06 -1.133e-14 \n",
            " -5.546e+03  1.243e+00  6.456e-06  7.693e+04 -2.752e-06 \n",
            "  2.752e-06 -9.055e-08 -1.133e-14 -2.752e-06  1.170e-10 \n",
            " PARAMETER  CORRELATION COEFFICIENTS  \n",
            "       NO.  GLOBAL      1      2      3      4      5\n",
            "        1  0.17333   1.000 -0.028 -0.001 -0.171  0.002\n",
            "        2  0.03622  -0.028  1.000  0.001  0.012 -0.022\n",
            "        3  0.00167  -0.001  0.001  1.000  0.001 -0.000\n",
            "        4  0.17151  -0.171  0.012  0.001  1.000 -0.001\n",
            "        5  0.02203   0.002 -0.022 -0.000 -0.001  1.000\n",
            "[#1] INFO:Minization -- RooMinimizer::optimizeConst: deactivating const optimization\n"
          ],
          "name": "stdout"
        }
      ]
    },
    {
      "cell_type": "code",
      "metadata": {
        "colab": {
          "base_uri": "https://localhost:8080/",
          "height": 577
        },
        "id": "8pKmE0TCsOkK",
        "outputId": "1f5c0ddd-4e9a-4b0d-ee88-a79c162b9714"
      },
      "source": [
        "#Now to plot it all\r\n",
        "c1=ROOT.TCanvas(\"c1\",\"c1\")\r\n",
        "frame=mass.frame()\r\n",
        "data_to_fit.plotOn(frame)\r\n",
        "model.plotOn(frame, ROOT.RooFit.Components(\"Gaussian Signal\"),ROOT.RooFit.LineColor(8),ROOT.RooFit.LineStyle(2))\r\n",
        "model.plotOn(frame, ROOT.RooFit.Components(\"Exponential Background\"),ROOT.RooFit.LineColor(46),ROOT.RooFit.LineStyle(2))\r\n",
        "model.plotOn(frame)\r\n",
        "frame.Draw()\r\n",
        "c1.Draw()\r\n",
        "\r\n",
        "Gaussian_Chi = frame.chiSquare()"
      ],
      "execution_count": 238,
      "outputs": [
        {
          "output_type": "stream",
          "text": [
            "[#1] INFO:Plotting -- RooAbsPdf::plotOn(Full Model) directly selected PDF components: (Gaussian Signal)\n",
            "[#1] INFO:Plotting -- RooAbsPdf::plotOn(Full Model) indirectly selected PDF components: ()\n",
            "[#1] INFO:Plotting -- RooAbsPdf::plotOn(Full Model) directly selected PDF components: (Exponential Background)\n",
            "[#1] INFO:Plotting -- RooAbsPdf::plotOn(Full Model) indirectly selected PDF components: ()\n"
          ],
          "name": "stdout"
        },
        {
          "output_type": "stream",
          "text": [
            "Warning in <TCanvas::Constructor>: Deleting canvas with same name: c1\n"
          ],
          "name": "stderr"
        },
        {
          "output_type": "display_data",
          "data": {
            "image/png": "[encoded data removed]",
            "text/plain": [
              "<IPython.core.display.Image object>"
            ]
          },
          "metadata": {
            "tags": []
          }
        }
      ]
    },
    {
      "cell_type": "code",
      "metadata": {
        "id": "ZcB6_oj0PUZk"
      },
      "source": [
        "# Crystal ball-exponent model\r\n",
        "\r\n",
        "# name, title, parameter, mean, sigma, alpha, n\r\n",
        "\r\n",
        "# CB model doesn't produce any signal graph at all\r\n",
        "\r\n",
        "#x = ROOT.RooRealvar(\"x\", \"x\", 5, 0, 10)\r\n",
        "alpha = ROOT.RooRealVar(\"a\",\"a\", 1, 1, 1)\r\n",
        "n = ROOT.RooRealVar(\"n\",\"n\", 1, 0, 1) \r\n",
        "\r\n",
        "CB = ROOT.RooCBShape(\"CB signal\", \"CB\", mass, mean, width, alpha, n)\r\n",
        "\r\n",
        "CB_Norm= ROOT.RooRealVar(\"CB_Norm\",\"Signal Yield\", tree.GetEntries()/30, 0, tree.GetEntries() * 3)\r\n",
        "\r\n",
        "# pdf\r\n",
        "model = get_PDF_model(CB, Bkgnd, CB_Norm, exp_Norm)"
      ],
      "execution_count": 239,
      "outputs": []
    },
    {
      "cell_type": "code",
      "metadata": {
        "id": "iS8w8akmNXuT",
        "colab": {
          "base_uri": "https://localhost:8080/"
        },
        "outputId": "433a6db9-ac9d-4be1-adc0-33958b5757b6"
      },
      "source": [
        "#Put our data set into a RooDataSet structure\r\n",
        "data_to_fit=ROOT.RooDataSet(\"Data Set\",\"data_to_fit\", CutTree, ROOT.RooArgSet(mass))\r\n",
        "\r\n",
        " #Then we can do the fitting:\r\n",
        "\r\n",
        "model.fitTo(data_to_fit)\r\n"
      ],
      "execution_count": 240,
      "outputs": [
        {
          "output_type": "execute_result",
          "data": {
            "text/plain": [
              "<ROOT.RooFitResult object at 0x(nil)>"
            ]
          },
          "metadata": {
            "tags": []
          },
          "execution_count": 240
        },
        {
          "output_type": "stream",
          "text": [
            "[#1] INFO:Eval -- RooAbsReal::attachToTree(M_m0) TTree Float_t branch M_m0 will be converted to double precision\n",
            "[#1] INFO:Eval -- RooTreeDataStore::loadValues(Data Set) Ignored 19043 out of range events\n",
            "[#1] INFO:Minization -- p.d.f. provides expected number of events, including extended term in likelihood.\n",
            "[#1] INFO:Minization -- RooMinimizer::optimizeConst: activating const optimization\n",
            "[#1] INFO:Minization --  The following expressions will be evaluated in cache-and-track mode: (CB signal,Exponential Background)\n",
            "[#1] INFO:Minization -- RooMinimizerFcn::synchronize: set of constant parameters changed, rerunning const optimizer\n",
            "[#1] INFO:Minization --  The following expressions will be evaluated in cache-and-track mode: (CB signal,Exponential Background)\n",
            " **********\n",
            " **    1 **SET PRINT           1\n",
            " **********\n",
            " **********\n",
            " **    2 **SET NOGRAD\n",
            " **********\n",
            " PARAMETER DEFINITIONS:\n",
            "    NO.   NAME         VALUE      STEP SIZE      LIMITS\n",
            "     1 CB_Norm      1.14006e+05  5.70030e+04    0.00000e+00  1.02606e+07\n",
            " MINUIT WARNING IN PARAM DEF\n",
            " ============== LIMITS ON PARAM1 TOO FAR APART.\n",
            " PARAMETER DEFINITIONS:\n",
            "    NO.   NAME         VALUE      STEP SIZE      LIMITS\n",
            "     2 Mean         5.27998e+03  3.81041e-01    5.27000e+03  5.33000e+03\n",
            "     3 Width        2.00000e+01  1.32599e-02    0.00000e+00  2.00000e+01\n",
            " MINUIT WARNING IN PARAMETR\n",
            " ============== VARIABLE3 IS AT ITS UPPER ALLOWED LIMIT.\n",
            " MINUIT WARNING IN PARAMETR\n",
            " ============== VARIABLE3 BROUGHT BACK INSIDE LIMITS.\n",
            "     4 a            1.00000e+00  1.00000e-01     no limits\n",
            " **********\n",
            " **    3 **FIX           4\n",
            " **********\n",
            " PARAMETER DEFINITIONS:\n",
            "    NO.   NAME         VALUE      STEP SIZE      LIMITS\n",
            "     5 exp_Norm     7.13871e+04  2.77368e+02    0.00000e+00  6.84039e+06\n",
            "     6 exponent    -1.46950e-04  1.08168e-05   -2.00000e+00  2.00000e+00\n",
            "     7 n            1.00000e+00  1.00000e-01    0.00000e+00  1.00000e+00\n",
            " MINUIT WARNING IN PARAM DEF\n",
            " ============== STARTING VALUE IS AT LIMIT.\n",
            " MINUIT WARNING IN PARAMETR\n",
            " ============== VARIABLE7 IS AT ITS UPPER ALLOWED LIMIT.\n",
            " MINUIT WARNING IN PARAMETR\n",
            " ============== VARIABLE7 BROUGHT BACK INSIDE LIMITS.\n",
            " **********\n",
            " **    4 **SET ERR         0.5\n",
            " **********\n",
            " **********\n",
            " **    5 **SET PRINT           1\n",
            " **********\n",
            " **********\n",
            " **    6 **SET STR           1\n",
            " **********\n",
            " NOW USING STRATEGY  1: TRY TO BALANCE SPEED AGAINST RELIABILITY\n",
            " **********\n",
            " **    7 **MIGRAD        3500           1\n",
            " **********\n",
            " FIRST CALL TO USER FUNCTION AT NEW START POINT, WITH IFLAG=4.\n",
            " MINUIT WARNING IN MIGrad    \n",
            " ============== VARIABLE3 IS AT ITS UPPER ALLOWED LIMIT.\n",
            " MINUIT WARNING IN MIGrad    \n",
            " ============== VARIABLE7 IS AT ITS UPPER ALLOWED LIMIT.\n",
            " START MIGRAD MINIMIZATION.  STRATEGY  1.  CONVERGENCE WHEN EDM .LT. 1.00e-03\n",
            " FCN=-212238 FROM MIGRAD    STATUS=INITIATE       44 CALLS          45 TOTAL\n",
            "                     EDM= unknown      STRATEGY= 1      NO ERROR MATRIX       \n",
            "  EXT PARAMETER               CURRENT GUESS       STEP         FIRST   \n",
            "  NO.   NAME      VALUE            ERROR          SIZE      DERIVATIVE \n",
            "   1  CB_Norm      1.14006e+05   5.70030e+04   0.00000e+00   7.20570e+05\n",
            "   2  Mean         5.27998e+03   3.81041e-01   0.00000e+00  -1.77472e+03\n",
            "   3  Width        2.00000e+01   1.32599e-02   0.00000e+00  -2.88737e+00\n",
            "   4  a            1.00000e+00     fixed    \n",
            "   5  exp_Norm     7.13871e+04   2.77368e+02   0.00000e+00   2.87834e+05\n",
            "   6  exponent    -1.46950e-04   1.08168e-05   0.00000e+00  -1.28964e+07\n",
            "   7  n            2.26986e-01   1.00000e-01  -2.14646e+00  -2.48202e+03\n",
            "                               ERR DEF= 0.5\n",
            " MIGRAD MINIMIZATION HAS CONVERGED.\n",
            " FCN=-259804 FROM MIGRAD    STATUS=CONVERGED     159 CALLS         160 TOTAL\n",
            "                     EDM=2.29177e-06    STRATEGY= 1  ERROR MATRIX UNCERTAINTY   2.2 per cent\n",
            "  EXT PARAMETER                                   STEP         FIRST   \n",
            "  NO.   NAME      VALUE            ERROR          SIZE      DERIVATIVE \n",
            "   1  CB_Norm      2.40431e+04   3.67644e+02  -1.64614e-05   2.39822e-01\n",
            "   2  Mean         5.28330e+03   3.52585e-01   9.82330e-05  -1.88786e-02\n",
            "   3  Width        2.00000e+01   3.38316e-03  -1.44462e-05** at limit **\n",
            "   4  a            1.00000e+00     fixed    \n",
            "   5  exp_Norm     5.54106e+04   4.09063e+02   2.42446e-05  -2.96669e+00\n",
            "   6  exponent     3.62519e-04   2.04600e-05  -1.93396e-07  -1.19444e+02\n",
            "   7  n            4.68529e-01   1.05511e-02   5.53114e-04  -3.74300e-02\n",
            "                               ERR DEF= 0.5\n",
            " EXTERNAL ERROR MATRIX.    NDIM=  25    NPAR=  6    ERR DEF=0.5\n",
            "  1.352e+05  1.165e+01  6.516e-05 -1.118e+05  5.410e-03 -2.641e+00 \n",
            "  1.165e+01  1.243e-01 -2.003e-08 -1.165e+01  5.886e-07 -4.659e-04 \n",
            "  6.516e-05 -2.003e-08  6.197e-10 -1.112e-04  2.867e-12 -2.250e-09 \n",
            " -1.118e+05 -1.165e+01 -1.112e-04  1.673e+05 -5.316e-03  2.627e+00 \n",
            "  5.410e-03  5.886e-07  2.867e-12 -5.316e-03  4.186e-10 -1.333e-07 \n",
            " -2.641e+00 -4.659e-04 -2.250e-09  2.627e+00 -1.333e-07  1.113e-04 \n",
            " PARAMETER  CORRELATION COEFFICIENTS  \n",
            "       NO.  GLOBAL      1      2      3      5      6      7\n",
            "        1  0.82905   1.000  0.090  0.007 -0.743  0.719 -0.681\n",
            "        2  0.12546   0.090  1.000 -0.002 -0.081  0.082 -0.125\n",
            "        3  0.01217   0.007 -0.002  1.000 -0.011  0.006 -0.009\n",
            "        5  0.76472  -0.743 -0.081 -0.011  1.000 -0.635  0.609\n",
            "        6  0.74922   0.719  0.082  0.006 -0.635  1.000 -0.618\n",
            "        7  0.71714  -0.681 -0.125 -0.009  0.609 -0.618  1.000\n",
            "[#1] INFO:Minization -- RooMinimizerFcn::synchronize: set of constant parameters changed, rerunning const optimizer\n",
            "[#1] INFO:Minization --  The following expressions will be evaluated in cache-and-track mode: (CB signal,Exponential Background)\n",
            " **********\n",
            " **    8 **SET ERR         0.5\n",
            " **********\n",
            " **********\n",
            " **    9 **SET PRINT           1\n",
            " **********\n",
            " **********\n",
            " **   10 **HESSE        3500\n",
            " **********\n",
            " COVARIANCE MATRIX CALCULATED SUCCESSFULLY\n",
            " FCN=-259804 FROM HESSE     STATUS=OK             48 CALLS         208 TOTAL\n",
            "                     EDM=4.75269e-06    STRATEGY= 1      ERROR MATRIX ACCURATE \n",
            "  EXT PARAMETER                                INTERNAL      INTERNAL  \n",
            "  NO.   NAME      VALUE            ERROR       STEP SIZE       VALUE   \n",
            "   1  CB_Norm      2.40431e+04   3.71995e+02   1.51322e-04  -1.47394e+00\n",
            "   2  Mean         5.28330e+03   3.77469e-01   5.26449e-03  -5.90246e-01\n",
            "   3  Width        2.00000e+01   2.57507e-02   2.52477e-02   1.57089e+00\n",
            "                                 WARNING -   - ABOVE PARAMETER IS AT LIMIT.\n",
            "   4  a            1.00000e+00     fixed    \n",
            "   5  exp_Norm     5.54106e+04   4.11872e+02   1.51516e-04  -1.39055e+00\n",
            "   6  exponent     3.62519e-04   1.99505e-05   2.35001e-06   1.81259e-04\n",
            "   7  n            4.68529e-01   1.06897e-02   5.27571e-03  -6.29835e-02\n",
            "                               ERR DEF= 0.5\n",
            " EXTERNAL ERROR MATRIX.    NDIM=  25    NPAR=  6    ERR DEF=0.5\n",
            "  1.384e+05  1.714e+01 -1.015e-04 -1.143e+05  5.187e-03 -2.643e+00 \n",
            "  1.714e+01  1.425e-01  2.725e-07 -1.712e+01  5.874e-07 -5.963e-04 \n",
            " -1.015e-04  2.725e-07  4.718e-09  1.014e-04 -2.178e-12  2.246e-10 \n",
            " -1.143e+05 -1.712e+01  1.014e-04  1.696e+05 -5.185e-03  2.641e+00 \n",
            "  5.187e-03  5.874e-07 -2.178e-12 -5.185e-03  3.980e-10 -1.340e-07 \n",
            " -2.643e+00 -5.963e-04  2.246e-10  2.641e+00 -1.340e-07  1.143e-04 \n",
            " PARAMETER  CORRELATION COEFFICIENTS  \n",
            "       NO.  GLOBAL      1      2      3      5      6      7\n",
            "        1  0.81926   1.000  0.122 -0.004 -0.746  0.699 -0.665\n",
            "        2  0.15759   0.122  1.000  0.011 -0.110  0.078 -0.148\n",
            "        3  0.01218  -0.004  0.011  1.000  0.004 -0.002  0.000\n",
            "        5  0.76768  -0.746 -0.110  0.004  1.000 -0.631  0.600\n",
            "        6  0.74307   0.699  0.078 -0.002 -0.631  1.000 -0.628\n",
            "        7  0.71409  -0.665 -0.148  0.000  0.600 -0.628  1.000\n",
            "[#1] INFO:Minization -- RooMinimizer::optimizeConst: deactivating const optimization\n"
          ],
          "name": "stdout"
        }
      ]
    },
    {
      "cell_type": "code",
      "metadata": {
        "id": "bUhgxlRGd4XO",
        "colab": {
          "base_uri": "https://localhost:8080/",
          "height": 542
        },
        "outputId": "3433e6b7-3cb3-4618-c9f9-e04a5be2846a"
      },
      "source": [
        "#Now to plot it all\r\n",
        "c2=ROOT.TCanvas(\"c2\",\"c2\")\r\n",
        "frame=mass.frame()\r\n",
        "data_to_fit.plotOn(frame)\r\n",
        "model.plotOn(frame, ROOT.RooFit.Components(\"CB Signal\"),ROOT.RooFit.LineColor(8),ROOT.RooFit.LineStyle(2))\r\n",
        "model.plotOn(frame, ROOT.RooFit.Components(\"Exponential Background\"),ROOT.RooFit.LineColor(46),ROOT.RooFit.LineStyle(2))\r\n",
        "model.plotOn(frame)\r\n",
        "frame.Draw()\r\n",
        "c2.Draw()\r\n",
        "\r\n",
        "CB_Chi = frame.chiSquare()"
      ],
      "execution_count": 241,
      "outputs": [
        {
          "output_type": "stream",
          "text": [
            "[#0] ERROR:Plotting -- RooAbsPdf::plotOn(Full Model) ERROR: component selection expression 'CB Signal' does not select any components of p.d.f.\n",
            "[#1] INFO:Plotting -- RooAbsPdf::plotOn(Full Model) directly selected PDF components: (Exponential Background)\n",
            "[#1] INFO:Plotting -- RooAbsPdf::plotOn(Full Model) indirectly selected PDF components: ()\n"
          ],
          "name": "stdout"
        },
        {
          "output_type": "display_data",
          "data": {
            "image/png": "[encoded data removed]",
            "text/plain": [
              "<IPython.core.display.Image object>"
            ]
          },
          "metadata": {
            "tags": []
          }
        }
      ]
    },
    {
      "cell_type": "code",
      "metadata": {
        "id": "HhwF2JAMJn5d"
      },
      "source": [
        "# Chebychev background model\r\n",
        "# UNFINISHED - I didn't know what arguments to pass into RooChebychev() to approximate the background\r\n",
        "\r\n",
        "\r\n",
        "# RooChebychev (const char *name, const char *title, RooAbsReal &_x, const RooArgList &_coefList)\r\n",
        "\r\n",
        "##model = get_PDF_model(Signal = Gauss, Bkgnd = Bkgnd, s_Norm = Gauss_Norm, b_Norm = exp_Norm)"
      ],
      "execution_count": 191,
      "outputs": []
    },
    {
      "cell_type": "code",
      "metadata": {
        "id": "a0MXxXz2nshS"
      },
      "source": [
        "# constructing Gaussian+CB-Exponent model\r\n",
        "\r\n",
        "# using RooAddPdf to get a combined signal model\r\n",
        "# tried template from the ROOT tutorial (link below), didn't work\r\n",
        "# https://root.cern/manual/roofit/#signal-and-background-model\r\n",
        "#total_signal = ROOT.RooAddPdf(\"model\", \"Gaus+CB Signal\", ROOT.RooArgList(Gauss, CB), ROOT.RooArgList(0.5, 0.5))\r\n",
        "#model = get_PDF_model(total_signal, Bkgnd, Gauss_Norm, exp_Norm)"
      ],
      "execution_count": 233,
      "outputs": []
    },
    {
      "cell_type": "markdown",
      "metadata": {
        "id": "60b4bs1od4M_"
      },
      "source": [
        "Using this structure, you can in theory build whatever models you like!\r\n",
        "\r\n",
        "Some recommendations (but not necessary to do all):-\r\n",
        "\r\n",
        "\r\n",
        "\r\n",
        "*   Gauss+Exponential (as above)\r\n",
        "*   Crystal Ball + Exponential\r\n",
        "*   Gauss+Crystal Ball+Exponential (now you need to weigh the two signal peaks and then the total signal against total background)\r\n",
        "*   Gauss+Chebychev\r\n",
        "*   Two Crystal Balls + Exponential"
      ]
    },
    {
      "cell_type": "markdown",
      "metadata": {
        "id": "vHivSaH1dwy7"
      },
      "source": [
        "So how good was the fit, and how many events do you have?\r\n",
        "\r\n",
        "We can use the .getValV() function on our signal and background *normalisation* components, e.g. Gauss_Norm=Gauss.getValV()\r\n",
        "\r\n",
        "To find the error (on this number) we can use .getError()\r\n",
        "\r\n",
        "Neither of these measures would tell us if this was a good fit or not. Normally we use a χ2 test to do so - this is built into the image we made (so we can do frame.chiSquare() to get this data)\r\n",
        "\r\n",
        "For each model you made, print the signal and background yields (with errors) and report the χ2"
      ]
    },
    {
      "cell_type": "code",
      "metadata": {
        "id": "3ZxiFKyFFrs9",
        "colab": {
          "base_uri": "https://localhost:8080/"
        },
        "outputId": "2b24f532-12bb-4746-cf5f-32329bf848e5"
      },
      "source": [
        "# get the error for normalisation components on the Gauss+exponential model\r\n",
        "Gauss_Norm = Gauss.getValV()\r\n",
        "#Gauss_error = Gauss.getError()\r\n",
        "print('gauss yield ', Gauss_Norm,\" +- \")#, Gauss_error )\r\n",
        "print('chi square:', Gaussian_Chi)\r\n",
        "\r\n",
        "CB_Norm = CB.getValV()\r\n",
        "#CB_error = CB.getError()\r\n",
        "print('CB yield ', CB_Norm,\" +- \")#, CB_error )\r\n",
        "print('chi square:', CB_Chi)"
      ],
      "execution_count": 242,
      "outputs": [
        {
          "output_type": "stream",
          "text": [
            "('gauss yield ', 0.7057560843182096, ' +- ')\n",
            "('chi square:', 112.39297863853632)\n",
            "('CB yield ', 0.7057560843182096, ' +- ')\n",
            "('chi square:', 69.63436253685147)\n"
          ],
          "name": "stdout"
        }
      ]
    },
    {
      "cell_type": "markdown",
      "metadata": {
        "id": "ASy8XCbyGBp8"
      },
      "source": [
        "According to Gaussian-Exponent model, there are approximately 1800 events\r\n",
        "On the CB-exponent model there was no signal, due to the improper fitting\r\n",
        "\r\n",
        "That is not enough information to conclude about accuracy of  calculated events"
      ]
    },
    {
      "cell_type": "markdown",
      "metadata": {
        "id": "ob2HARgWoTGe"
      },
      "source": [
        "#Counting\r\n",
        "\r\n",
        "So we have now loaded our data; we have reconstructed information about the mother B meson and we have cut away any data which looks like it might not be what we are looking for. We have then plotted histograms of the mass of the B meson and used this to fit a model, a function to describe the events there. We now have to identify which of our events belong to the B<sup>+</sup> and how many of them belong to B<sup>-</sup>.\r\n",
        "\r\n",
        "To do this, should split out data into two groups (and throw away data which doesn't comply with either decay)\r\n",
        "\r\n",
        "We will be looking for the events which are\r\n",
        "\r\n",
        "\r\n",
        "B<sup>+</sup>->K<sup>+</sup> + K<sup>+</sup>  + K<sup>-</sup>\r\n",
        "\r\n",
        "or\r\n",
        "\r\n",
        "B<sup>-</sup>->K<sup>-</sup> + K<sup>-</sup>  + K<sup>+</sup>\r\n",
        "\r\n",
        "We can look for the number of positive and negative charges in H1, H2 and H3 (using the variable ```H1_Charge``` etc.). If we have 0 or 3 positive charges, we should throw the event away and if we have 1 it should be assigned be a B<sup>-</sup>, with 2 it should be a B<sup>+</sup>"
      ]
    },
    {
      "cell_type": "code",
      "metadata": {
        "id": "qj4zmsdbibAp"
      },
      "source": [
        "# Separation of B+ and B-\r\n",
        "# for each event we have to determine whether its a B+(++-, sum of daughter charges == 1) or B-(--+, sum of daughter charges == -1)\r\n",
        "# creating two copies of the CutTree that match the criteria \r\n",
        "\r\n",
        "#tree with B+ events\r\n",
        "B1_select = (\"(H1_Charge + H2_Charge + H3_Charge) == 1\")\r\n",
        "B1_tree = CutTree.CopyTree(B1_select)\r\n",
        "\r\n",
        "\r\n",
        "#tree with B- events\r\n",
        "B2_select = (\"(H1_Charge + H2_Charge + H3_Charge) == -1\")\r\n",
        "B2_tree = CutTree.CopyTree(B2_select)\r\n",
        "\r\n",
        "#to confirm that new trees contain appropriate data look at their first entries\r\n",
        "#B1_tree.Show(51026) #51026 events\r\n",
        "#B2_tree.Show(47469)  #47469 events\r\n",
        "\r\n",
        "#get number of events for further calculations\r\n",
        "entries_B1 = B1_tree.GetEntries()\r\n",
        "entries_B2 = B2_tree.GetEntries()\r\n",
        "\r\n",
        "B1 = 51026.0 # B+ events\r\n",
        "B2 = 47469.0 # B- events"
      ],
      "execution_count": 195,
      "outputs": []
    },
    {
      "cell_type": "markdown",
      "metadata": {
        "id": "r8VB5uN1obc4"
      },
      "source": [
        "Once we have defined if it's a B<sup>+</sup> or a B <sup>-</sup>, we should go ahead and ensure the pre-selection is applied and then plot our B mass, and fit the model to find the yield.\r\n",
        "\r\n",
        "We can then calculate the assymetry from this equation:\r\n",
        "\r\n",
        "$A=\\frac{(N^{B-}-N^{B+})}{(N^{B-}+N^{B+})}$\r\n",
        "\r\n",
        "Where N<sup>B+/- </sup> is the number of events found from the fitted yield of the signal from each data set.\r\n",
        "\r\n",
        "The uncertainty on this result is given by:\r\n",
        "\r\n",
        "$\\sigma_A=\\sqrt\\frac{1-A^2}{N^{B-}+N^{B+}}$\r\n",
        "\r\n",
        "Calculate these two values for your data and print them below:"
      ]
    },
    {
      "cell_type": "code",
      "metadata": {
        "id": "UiPNe2iuobSK",
        "colab": {
          "base_uri": "https://localhost:8080/"
        },
        "outputId": "dc710a41-cee1-4cb4-b4c2-36b97611e5c7"
      },
      "source": [
        "#Here do your calculation of the final result\r\n",
        "import numpy as np\r\n",
        "\r\n",
        "#assymetry\r\n",
        "sum = B2+B1\r\n",
        "A = (B2-B1)/sum\r\n",
        "Asq = 1.0-A*A\r\n",
        "sigma = np.sqrt(Asq/sum)\r\n",
        "\r\n",
        "print(\"Assymetry: \")\r\n",
        "print(A)\r\n",
        "print(\" \")\r\n",
        "print('Uncertainty: ')\r\n",
        "print(sigma)"
      ],
      "execution_count": 221,
      "outputs": [
        {
          "output_type": "stream",
          "text": [
            "Assymetry: \n",
            "-0.0361135082999\n",
            " \n",
            "Uncertainty: \n",
            "0.0031842673412603105\n"
          ],
          "name": "stdout"
        }
      ]
    },
    {
      "cell_type": "markdown",
      "metadata": {
        "id": "r5B--_33okz1"
      },
      "source": [
        "#Congratulations!\r\n",
        "\r\n",
        "You just made your first LHCb physics analysis. Does this seem like a reasonable result? Did we explain why we have an excess of mass in the Universe?"
      ]
    },
    {
      "cell_type": "markdown",
      "metadata": {
        "id": "GBGEek-Zj2sF"
      },
      "source": [
        "We can note that assymetry is negative, which tells us that there are more B+ than B-. That corresponds to what was stated about excess of matter compared to antimatter. Hence, this observation of B+ and B- cofirms Charge-partity violation that we were introduced to in this practical. \r\n",
        "\r\n",
        "However, obtained data don't provide us with the reason for the excess matter production."
      ]
    },
    {
      "cell_type": "markdown",
      "metadata": {
        "id": "dzybWZylomGu"
      },
      "source": [
        "## **Bonus content only below here:**"
      ]
    },
    {
      "cell_type": "markdown",
      "metadata": {
        "id": "odpbRqdoou5M"
      },
      "source": [
        "To make a further anaysis, we can look into the intermediate processes.\r\n",
        "\r\n",
        "We have so far considered only that the B meson ultimately decays into three kaons. It may be that on the way, the B meson first decays into a Kaon and another particle, and then from that particle to two Kaons.\r\n",
        "\r\n",
        "We would expect this to be one of three possible modes (for B<sup>+</sup>):\r\n",
        "\r\n",
        "$R^{++} \\rightarrow K_1^+ +K_2^+$\r\n",
        "\r\n",
        "(we don't expect this to happen because of the like charges in the Kaons)\r\n",
        "\r\n",
        "$R^0 \\rightarrow K_1^+ +K_3^-$\r\n",
        "\r\n",
        "$R^0 \\rightarrow K_2^+ +K_3^-$\r\n",
        "\r\n",
        "(Expect symmetric arrangements for B<sup>-</sup>)\r\n",
        "\r\n",
        "To analyse the intermediate states we can measure the invarient masses of the intermediate states and then plot them on what is called a Dalitz plot (this is a 2D plot with two different two body decays (from the three body decay) on each axis)\r\n",
        "\r\n",
        "![Dalitz Plot](https://slideplayer.com/slide/15960097/88/images/15/Dalitz+plot%3A+%CE%9B+c+%2B+%E2%86%92%F0%9D%91%9D+%F0%9D%90%BE+%E2%88%92+%F0%9D%9C%8B+%2B.jpg)\r\n"
      ]
    },
    {
      "cell_type": "code",
      "metadata": {
        "id": "SqJxvZSKo1cW"
      },
      "source": [
        "#Define a function to find the invarient mass of two given Kaons"
      ],
      "execution_count": 197,
      "outputs": []
    },
    {
      "cell_type": "code",
      "metadata": {
        "id": "YPVqECfPo3Wc"
      },
      "source": [
        "#Then, ensuring you're still taking the data after the selection, make a Dalitz plot. This is a 2-D scatter plot (use e.g. TH2F to make the plot where we used TH1F before)\r\n",
        "#Choose an appropriate binning in your scatter "
      ],
      "execution_count": 198,
      "outputs": []
    },
    {
      "cell_type": "markdown",
      "metadata": {
        "id": "qPoPLt4Uo6QB"
      },
      "source": [
        "We can further improve our plot, since two sets of particles on each axis are exactly the same (one positive Kaon, one negative Kaon). So we can plot the maximum of the two values on one axis and the minimum on the other. We can use a quick numpy check and then plot those values."
      ]
    },
    {
      "cell_type": "code",
      "metadata": {
        "id": "KJ_fe2R3o8Aq"
      },
      "source": [
        "#Make the revised Dalitz plot here for B+ mesons"
      ],
      "execution_count": 199,
      "outputs": []
    },
    {
      "cell_type": "code",
      "metadata": {
        "id": "t46slV8Yo-Ed"
      },
      "source": [
        "#Make the revised Dalitz plot here for B- mesons"
      ],
      "execution_count": 200,
      "outputs": []
    },
    {
      "cell_type": "code",
      "metadata": {
        "id": "RfTDh69qo9_q"
      },
      "source": [
        "#Where we have a higher density of points (or a bigger value in the bin) this is indication of an intermediate resonance\r\n",
        "#Check out the possible resonances you have found in the PDG (http://pdg.lbl.gov/2020/tables/contents_tables.html)"
      ],
      "execution_count": 201,
      "outputs": []
    }
  ]
}